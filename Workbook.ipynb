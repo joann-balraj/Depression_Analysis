{
 "cells": [
  {
   "cell_type": "markdown",
   "id": "5bdf73c6",
   "metadata": {},
   "source": [
    "# Depression Analysis Report\n",
    "\n",
    "#### By: Joann Balraj\n",
    "\n",
    "#### June 22, 2022\n",
    " \n",
    "\n",
    "### Project Description:\n",
    "Using the dataset I found on kaggle: https://www.kaggle.com/datasets/diegobabativa/depression I will be analyzing a data set that includes stats on people with depression. \"The data was consists as a study about the life conditions of people who live in rurales zones. Because all the columns were not explicated in this challenge so We can´t understand them. We proceded to delete them or ignoring.\" - This is in the description of the kaggle data set. It is in broken english, but I can see that it is saying these stats are from people in rural areas, and has also been cleaned.\n",
    "\n",
    "### Project Goals: \n"
   ]
  }
 ],
 "metadata": {
  "kernelspec": {
   "display_name": "Python 3.8.8 64-bit ('base': conda)",
   "language": "python",
   "name": "python388jvsc74a57bd0b64057e63add2b45b1ffc7eab9b09c8889b419c878e2fdf0d08f837f0fc857a7"
  },
  "language_info": {
   "codemirror_mode": {
    "name": "ipython",
    "version": 3
   },
   "file_extension": ".py",
   "mimetype": "text/x-python",
   "name": "python",
   "nbconvert_exporter": "python",
   "pygments_lexer": "ipython3",
   "version": "3.8.8"
  }
 },
 "nbformat": 4,
 "nbformat_minor": 5
}
